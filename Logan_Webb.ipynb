{
 "cells": [
  {
   "cell_type": "markdown",
   "metadata": {},
   "source": [
    "<img src=\"sf_logo.png\" style=\"width:100px;height:100px\"> "
   ]
  },
  {
   "cell_type": "markdown",
   "metadata": {},
   "source": [
    "# Player Plan \n",
    "### Logan Webb"
   ]
  },
  {
   "cell_type": "code",
   "execution_count": 1,
   "metadata": {},
   "outputs": [
    {
     "ename": "ModuleNotFoundError",
     "evalue": "No module named 'pandas'",
     "output_type": "error",
     "traceback": [
      "\u001b[0;31m---------------------------------------------------------------------------\u001b[0m",
      "\u001b[0;31mModuleNotFoundError\u001b[0m                       Traceback (most recent call last)",
      "\u001b[0;32m<ipython-input-1-f2ec5846d2bf>\u001b[0m in \u001b[0;36m<module>\u001b[0;34m\u001b[0m\n\u001b[0;32m----> 1\u001b[0;31m \u001b[0;32mimport\u001b[0m \u001b[0mpandas\u001b[0m \u001b[0;32mas\u001b[0m \u001b[0mpd\u001b[0m\u001b[0;34m\u001b[0m\u001b[0;34m\u001b[0m\u001b[0m\n\u001b[0m\u001b[1;32m      2\u001b[0m \u001b[0;32mimport\u001b[0m \u001b[0mnumpy\u001b[0m \u001b[0;32mas\u001b[0m \u001b[0mnp\u001b[0m\u001b[0;34m\u001b[0m\u001b[0;34m\u001b[0m\u001b[0m\n\u001b[1;32m      3\u001b[0m \u001b[0;32mfrom\u001b[0m \u001b[0msklearn\u001b[0m\u001b[0;34m.\u001b[0m\u001b[0mpreprocessing\u001b[0m \u001b[0;32mimport\u001b[0m \u001b[0mStandardScaler\u001b[0m\u001b[0;34m\u001b[0m\u001b[0;34m\u001b[0m\u001b[0m\n\u001b[1;32m      4\u001b[0m \u001b[0;32mfrom\u001b[0m \u001b[0msklearn\u001b[0m\u001b[0;34m.\u001b[0m\u001b[0mcluster\u001b[0m \u001b[0;32mimport\u001b[0m \u001b[0mKMeans\u001b[0m\u001b[0;34m,\u001b[0m \u001b[0mSpectralClustering\u001b[0m\u001b[0;34m\u001b[0m\u001b[0;34m\u001b[0m\u001b[0m\n\u001b[1;32m      5\u001b[0m \u001b[0;32mimport\u001b[0m \u001b[0mmatplotlib\u001b[0m\u001b[0;34m.\u001b[0m\u001b[0mpyplot\u001b[0m \u001b[0;32mas\u001b[0m \u001b[0mplt\u001b[0m\u001b[0;34m\u001b[0m\u001b[0;34m\u001b[0m\u001b[0m\n",
      "\u001b[0;31mModuleNotFoundError\u001b[0m: No module named 'pandas'"
     ]
    }
   ],
   "source": [
    "import pandas as pd\n",
    "import numpy as np\n",
    "from sklearn.preprocessing import StandardScaler\n",
    "from sklearn.cluster import KMeans, SpectralClustering\n",
    "import matplotlib.pyplot as plt\n",
    "import seaborn as sns\n",
    "from sklearn import metrics\n",
    "from sklearn.cluster import AgglomerativeClustering\n",
    " \n",
    "%matplotlib inline\n",
    "from mpl_toolkits.mplot3d import Axes3D\n",
    "plt.rcParams['figure.figsize'] = (16, 9)\n",
    "plt.style.use('ggplot')"
   ]
  },
  {
   "cell_type": "code",
   "execution_count": 25,
   "metadata": {},
   "outputs": [],
   "source": [
    "# loading statcast data\n",
    "statcast19 = pd.read_csv(\"data/Statcast_2019.csv\")\n",
    "statcast20 = pd.read_csv(\"data/Statcast_2020.csv\")"
   ]
  },
  {
   "cell_type": "code",
   "execution_count": 69,
   "metadata": {},
   "outputs": [],
   "source": [
    "# grouping all Logan Webb instances for the 2019 season\n",
    "lw19 = statcast19.groupby('player_name').get_group(\"Logan Webb\")\n",
    "\n",
    "# grouping all Logan Webb instances for the 2020 season\n",
    "lw20 = statcast20.groupby('player_name').get_group(\"Logan Webb\")\n",
    "\n",
    "# concatenating Logan Webb 2019 and 2020 seasons\n",
    "logan_webb = lw19.append(lw20)\n",
    "\n",
    "# changing 2-Seam Fastballs to Sinkers\n",
    "logan_webb[\"pitch_type\"] = logan_webb[\"pitch_type\"].replace({\"FT\":\"SI\"})\n",
    "logan_webb[\"pitch_name\"] = logan_webb[\"pitch_name\"].replace({\"2-Seam Fastball\":\"Sinker\"})\n",
    "\n",
    "# new csv with Logan´s data\n",
    "logan_webb.to_csv(\"data/lwstatcast.csv\")"
   ]
  },
  {
   "cell_type": "code",
   "execution_count": 28,
   "metadata": {},
   "outputs": [],
   "source": [
    "# loading Logan´s data\n",
    "lw_data = pd.read_csv(\"data/lwstatcast.csv\")"
   ]
  },
  {
   "cell_type": "code",
   "execution_count": 29,
   "metadata": {},
   "outputs": [],
   "source": [
    "lw_val_col = lw_data.copy"
   ]
  },
  {
   "cell_type": "code",
   "execution_count": 30,
   "metadata": {},
   "outputs": [],
   "source": [
    "# selecting columns necessary for this analysis\n",
    "lw_val_col = lw_data[[\"pitch_type\", \"release_speed\", \"release_pos_x\", \"release_pos_z\", \"events\", \"description\", \"zone\", \"stand\", \"pfx_x\",\n",
    "       \"pfx_z\", \"plate_x\", \"plate_z\", \"vx0\", \"vy0\", \"vz0\", \"ax\", \"ay\", \"az\", \"sz_top\", \"sz_bot\",\n",
    "       \"launch_speed\", \"launch_angle\", \"effective_speed\", \"release_spin_rate\", \"release_extension\", \"release_pos_y\", \"pitch_name\"]]"
   ]
  },
  {
   "cell_type": "markdown",
   "metadata": {},
   "source": [
    "### Preparing Data for Clustering"
   ]
  },
  {
   "cell_type": "code",
   "execution_count": 32,
   "metadata": {},
   "outputs": [
    {
     "name": "stderr",
     "output_type": "stream",
     "text": [
      "<ipython-input-32-110cd9370d06>:18: SettingWithCopyWarning: \n",
      "A value is trying to be set on a copy of a slice from a DataFrame.\n",
      "Try using .loc[row_indexer,col_indexer] = value instead\n",
      "\n",
      "See the caveats in the documentation: https://pandas.pydata.org/pandas-docs/stable/user_guide/indexing.html#returning-a-view-versus-a-copy\n",
      "  sub_col[\"p_type\"] = sub_col.apply(conditions, axis=1)\n",
      "/Users/pau/.pyenv/versions/3.8.5/lib/python3.8/site-packages/pandas/core/frame.py:4162: SettingWithCopyWarning: \n",
      "A value is trying to be set on a copy of a slice from a DataFrame\n",
      "\n",
      "See the caveats in the documentation: https://pandas.pydata.org/pandas-docs/stable/user_guide/indexing.html#returning-a-view-versus-a-copy\n",
      "  return super().drop(\n"
     ]
    }
   ],
   "source": [
    "# cols for clustering\n",
    "sub_col = lw_val_col[[\"pitch_type\", \"release_spin_rate\", \"release_speed\", \"pfx_x\", \"pfx_z\"]]\n",
    "\n",
    "# conditions for new category column\n",
    "def conditions(s):\n",
    "    if(s[\"pitch_type\"]==\"CH\"):\n",
    "        return 0\n",
    "    elif(s[\"pitch_type\"]==\"SL\"):\n",
    "        return 1\n",
    "    elif(s[\"pitch_type\"]==\"FF\"):\n",
    "        return 2\n",
    "    elif(s[\"pitch_type\"]==\"SI\"):\n",
    "        return 3\n",
    "    else:\n",
    "        return 4\n",
    "    \n",
    "# applying conditions\n",
    "sub_col[\"p_type\"] = sub_col.apply(conditions, axis=1)\n",
    "\n",
    "# dropping old column\n",
    "sub_col.drop(\"pitch_type\", inplace=True, axis=1)"
   ]
  },
  {
   "cell_type": "code",
   "execution_count": 33,
   "metadata": {},
   "outputs": [
    {
     "name": "stderr",
     "output_type": "stream",
     "text": [
      "<ipython-input-33-72200729f846>:1: SettingWithCopyWarning: \n",
      "A value is trying to be set on a copy of a slice from a DataFrame\n",
      "\n",
      "See the caveats in the documentation: https://pandas.pydata.org/pandas-docs/stable/user_guide/indexing.html#returning-a-view-versus-a-copy\n",
      "  sub_col.dropna(inplace=True)\n"
     ]
    }
   ],
   "source": [
    "sub_col.dropna(inplace=True)"
   ]
  },
  {
   "cell_type": "markdown",
   "metadata": {},
   "source": [
    "### Change Up (CH)"
   ]
  },
  {
   "cell_type": "code",
   "execution_count": 34,
   "metadata": {},
   "outputs": [],
   "source": [
    "ch_data = sub_col.groupby(\"p_type\").get_group(0)\n",
    "\n",
    "ch_cols_of_interest = [\"release_spin_rate\",\"release_speed\",\"pfx_x\", \"pfx_z\"]\n",
    "\n",
    "ch_data = ch_data[ch_cols_of_interest]\n",
    "\n",
    "ch_X = np.array(ch_data)"
   ]
  },
  {
   "cell_type": "code",
   "execution_count": 35,
   "metadata": {},
   "outputs": [
    {
     "data": {
      "text/plain": [
       "1672"
      ]
     },
     "execution_count": 35,
     "metadata": {},
     "output_type": "execute_result"
    }
   ],
   "source": [
    "ch_data.size"
   ]
  },
  {
   "cell_type": "code",
   "execution_count": 36,
   "metadata": {},
   "outputs": [],
   "source": [
    "ch_sum_of_squared_distances = []\n",
    "K = range(1,15)\n",
    "for k in K:\n",
    "    ch_k_means = KMeans(n_clusters=k)\n",
    "    ch_model = ch_k_means.fit(ch_X)\n",
    "    ch_sum_of_squared_distances.append(ch_k_means.inertia_)"
   ]
  },
  {
   "cell_type": "code",
   "execution_count": 37,
   "metadata": {
    "collapsed": true,
    "jupyter": {
     "outputs_hidden": true
    }
   },
   "outputs": [
    {
     "data": {
      "image/png": "[encoded data removed]",
      "text/plain": [
       "<Figure size 1152x648 with 1 Axes>"
      ]
     },
     "metadata": {},
     "output_type": "display_data"
    }
   ],
   "source": [
    "plt.plot(K, ch_sum_of_squared_distances, 'bx-')\n",
    "plt.xlabel('k')\n",
    "plt.ylabel('sum_of_squared_distances')\n",
    "plt.title('elbow method for optimal k')\n",
    "plt.show()"
   ]
  },
  {
   "cell_type": "code",
   "execution_count": 38,
   "metadata": {},
   "outputs": [
    {
     "data": {
      "text/plain": [
       "836.2435900985382"
      ]
     },
     "execution_count": 38,
     "metadata": {},
     "output_type": "execute_result"
    }
   ],
   "source": [
    "ch_k_means_2 = KMeans(n_clusters=3)\n",
    "ch_model = ch_k_means_2.fit(ch_X)\n",
    "ch_y_hat_2 = ch_k_means_2.predict(ch_X)\n",
    "ch_labels_2 = ch_k_means_2.labels_\n",
    "metrics.silhouette_score(ch_X, ch_labels_2, metric = 'euclidean')\n",
    "metrics.calinski_harabasz_score(ch_X, ch_labels_2)"
   ]
  },
  {
   "cell_type": "code",
   "execution_count": 39,
   "metadata": {},
   "outputs": [
    {
     "data": {
      "text/html": [
       "<div>\n",
       "<style scoped>\n",
       "    .dataframe tbody tr th:only-of-type {\n",
       "        vertical-align: middle;\n",
       "    }\n",
       "\n",
       "    .dataframe tbody tr th {\n",
       "        vertical-align: top;\n",
       "    }\n",
       "\n",
       "    .dataframe thead th {\n",
       "        text-align: right;\n",
       "    }\n",
       "</style>\n",
       "<table border=\"1\" class=\"dataframe\">\n",
       "  <thead>\n",
       "    <tr style=\"text-align: right;\">\n",
       "      <th></th>\n",
       "      <th>release_spin_rate</th>\n",
       "      <th>release_speed</th>\n",
       "      <th>pfx_x</th>\n",
       "      <th>pfx_z</th>\n",
       "      <th>prediction</th>\n",
       "      <th>count</th>\n",
       "    </tr>\n",
       "  </thead>\n",
       "  <tbody>\n",
       "    <tr>\n",
       "      <th>0</th>\n",
       "      <td>1492.415301</td>\n",
       "      <td>84.407650</td>\n",
       "      <td>-0.986499</td>\n",
       "      <td>-0.144032</td>\n",
       "      <td>0</td>\n",
       "      <td>183</td>\n",
       "    </tr>\n",
       "    <tr>\n",
       "      <th>1</th>\n",
       "      <td>1653.517544</td>\n",
       "      <td>84.887281</td>\n",
       "      <td>-1.056027</td>\n",
       "      <td>-0.128210</td>\n",
       "      <td>1</td>\n",
       "      <td>228</td>\n",
       "    </tr>\n",
       "    <tr>\n",
       "      <th>2</th>\n",
       "      <td>2762.714286</td>\n",
       "      <td>84.828571</td>\n",
       "      <td>-1.185714</td>\n",
       "      <td>-0.014286</td>\n",
       "      <td>2</td>\n",
       "      <td>7</td>\n",
       "    </tr>\n",
       "  </tbody>\n",
       "</table>\n",
       "</div>"
      ],
      "text/plain": [
       "   release_spin_rate  release_speed     pfx_x     pfx_z  prediction  count\n",
       "0        1492.415301      84.407650 -0.986499 -0.144032           0    183\n",
       "1        1653.517544      84.887281 -1.056027 -0.128210           1    228\n",
       "2        2762.714286      84.828571 -1.185714 -0.014286           2      7"
      ]
     },
     "execution_count": 39,
     "metadata": {},
     "output_type": "execute_result"
    }
   ],
   "source": [
    "ch_centers = ch_model.cluster_centers_\n",
    "#function that creates a dataframe with a column for cluster number\n",
    "def pd_centers(cols_of_interest, centers):\n",
    "        ch_colNames = list(cols_of_interest)\n",
    "        ch_colNames.append('prediction')\n",
    "# Zip with a column called 'prediction' (index)\n",
    "        ch_Z = [np.append(A, index) for index, A in enumerate(centers)]\n",
    "# Convert to pandas data frame\n",
    "        ch_P = pd.DataFrame(ch_Z, columns=ch_colNames)\n",
    "        ch_P['prediction'] = ch_P['prediction'].astype(int)\n",
    "        ch_P['count'] = pd.value_counts(ch_k_means_2.labels_)\n",
    "        return ch_P\n",
    "ch_P = pd_centers(ch_cols_of_interest, ch_centers)\n",
    "ch_P"
   ]
  },
  {
   "cell_type": "markdown",
   "metadata": {},
   "source": [
    "### Sinker (SI)"
   ]
  },
  {
   "cell_type": "code",
   "execution_count": 40,
   "metadata": {},
   "outputs": [],
   "source": [
    "si_data = sub_col.groupby(\"p_type\").get_group(3)\n",
    "\n",
    "si_cols_of_interest = [\"release_spin_rate\",\"release_speed\",\"pfx_x\", \"pfx_z\"]\n",
    "\n",
    "si_data = si_data[si_cols_of_interest]\n",
    "\n",
    "si_X = np.array(si_data)"
   ]
  },
  {
   "cell_type": "code",
   "execution_count": 41,
   "metadata": {},
   "outputs": [],
   "source": [
    "si_sum_of_squared_distances = []\n",
    "K = range(1,15)\n",
    "for k in K:\n",
    "    si_k_means = KMeans(n_clusters=k)\n",
    "    si_model = si_k_means.fit(si_X)\n",
    "    si_sum_of_squared_distances.append(si_k_means.inertia_)"
   ]
  },
  {
   "cell_type": "code",
   "execution_count": 42,
   "metadata": {
    "collapsed": true,
    "jupyter": {
     "outputs_hidden": true
    }
   },
   "outputs": [
    {
     "data": {
      "image/png": "[encoded data removed]",
      "text/plain": [
       "<Figure size 1152x648 with 1 Axes>"
      ]
     },
     "metadata": {},
     "output_type": "display_data"
    }
   ],
   "source": [
    "plt.plot(K, si_sum_of_squared_distances, 'bx-')\n",
    "plt.xlabel('k')\n",
    "plt.ylabel('sum_of_squared_distances')\n",
    "plt.title('elbow method for optimal k')\n",
    "plt.show()"
   ]
  },
  {
   "cell_type": "code",
   "execution_count": 43,
   "metadata": {},
   "outputs": [
    {
     "data": {
      "text/plain": [
       "549.3410266055334"
      ]
     },
     "execution_count": 43,
     "metadata": {},
     "output_type": "execute_result"
    }
   ],
   "source": [
    "si_k_means_2 = KMeans(n_clusters=4)\n",
    "si_model = si_k_means_2.fit(si_X)\n",
    "si_y_hat_2 = si_k_means_2.predict(si_X)\n",
    "si_labels_2 = si_k_means_2.labels_\n",
    "metrics.silhouette_score(si_X, si_labels_2, metric = 'euclidean')\n",
    "metrics.calinski_harabasz_score(si_X, si_labels_2)"
   ]
  },
  {
   "cell_type": "code",
   "execution_count": 45,
   "metadata": {},
   "outputs": [
    {
     "data": {
      "text/html": [
       "<div>\n",
       "<style scoped>\n",
       "    .dataframe tbody tr th:only-of-type {\n",
       "        vertical-align: middle;\n",
       "    }\n",
       "\n",
       "    .dataframe tbody tr th {\n",
       "        vertical-align: top;\n",
       "    }\n",
       "\n",
       "    .dataframe thead th {\n",
       "        text-align: right;\n",
       "    }\n",
       "</style>\n",
       "<table border=\"1\" class=\"dataframe\">\n",
       "  <thead>\n",
       "    <tr style=\"text-align: right;\">\n",
       "      <th></th>\n",
       "      <th>release_spin_rate</th>\n",
       "      <th>release_speed</th>\n",
       "      <th>pfx_x</th>\n",
       "      <th>pfx_z</th>\n",
       "      <th>prediction</th>\n",
       "      <th>count</th>\n",
       "    </tr>\n",
       "  </thead>\n",
       "  <tbody>\n",
       "    <tr>\n",
       "      <th>0</th>\n",
       "      <td>2131.475000</td>\n",
       "      <td>92.078750</td>\n",
       "      <td>-1.434689</td>\n",
       "      <td>0.588906</td>\n",
       "      <td>0</td>\n",
       "      <td>80</td>\n",
       "    </tr>\n",
       "    <tr>\n",
       "      <th>1</th>\n",
       "      <td>1020.333333</td>\n",
       "      <td>92.666667</td>\n",
       "      <td>-1.400000</td>\n",
       "      <td>0.400000</td>\n",
       "      <td>1</td>\n",
       "      <td>3</td>\n",
       "    </tr>\n",
       "    <tr>\n",
       "      <th>2</th>\n",
       "      <td>1946.791045</td>\n",
       "      <td>91.602239</td>\n",
       "      <td>-1.435168</td>\n",
       "      <td>0.455813</td>\n",
       "      <td>2</td>\n",
       "      <td>134</td>\n",
       "    </tr>\n",
       "    <tr>\n",
       "      <th>3</th>\n",
       "      <td>2995.333333</td>\n",
       "      <td>92.733333</td>\n",
       "      <td>-1.333333</td>\n",
       "      <td>0.433333</td>\n",
       "      <td>3</td>\n",
       "      <td>3</td>\n",
       "    </tr>\n",
       "  </tbody>\n",
       "</table>\n",
       "</div>"
      ],
      "text/plain": [
       "   release_spin_rate  release_speed     pfx_x     pfx_z  prediction  count\n",
       "0        2131.475000      92.078750 -1.434689  0.588906           0     80\n",
       "1        1020.333333      92.666667 -1.400000  0.400000           1      3\n",
       "2        1946.791045      91.602239 -1.435168  0.455813           2    134\n",
       "3        2995.333333      92.733333 -1.333333  0.433333           3      3"
      ]
     },
     "execution_count": 45,
     "metadata": {},
     "output_type": "execute_result"
    }
   ],
   "source": [
    "si_centers = si_model.cluster_centers_\n",
    "#function that creates a dataframe with a column for cluster number\n",
    "def pd_centers(cols_of_interest, centers):\n",
    "        si_colNames = list(cols_of_interest)\n",
    "        si_colNames.append('prediction')\n",
    "# Zip with a column called 'prediction' (index)\n",
    "        si_Z = [np.append(A, index) for index, A in enumerate(centers)]\n",
    "# Convert to pandas data frame\n",
    "        si_P = pd.DataFrame(si_Z, columns=si_colNames)\n",
    "        si_P['prediction'] = si_P['prediction'].astype(int)\n",
    "        si_P['count'] = pd.value_counts(si_k_means_2.labels_)\n",
    "        return si_P\n",
    "si_P = pd_centers(si_cols_of_interest, si_centers)\n",
    "si_P"
   ]
  },
  {
   "cell_type": "markdown",
   "metadata": {},
   "source": [
    "### Slider (SL)"
   ]
  },
  {
   "cell_type": "code",
   "execution_count": 46,
   "metadata": {},
   "outputs": [],
   "source": [
    "sl_data = sub_col.groupby(\"p_type\").get_group(1)\n",
    "\n",
    "sl_cols_of_interest = [\"release_spin_rate\",\"release_speed\",\"pfx_x\", \"pfx_z\"]\n",
    "\n",
    "sl_data = sl_data[sl_cols_of_interest]\n",
    "\n",
    "sl_X = np.array(sl_data)"
   ]
  },
  {
   "cell_type": "code",
   "execution_count": 100,
   "metadata": {},
   "outputs": [],
   "source": [
    "sl_sum_of_squared_distances = []\n",
    "K = range(1,15)\n",
    "for k in K:\n",
    "    sl_k_means = KMeans(n_clusters=k)\n",
    "    sl_model = sl_k_means.fit(sl_X)\n",
    "    sl_sum_of_squared_distances.append(sl_k_means.inertia_)"
   ]
  },
  {
   "cell_type": "code",
   "execution_count": 101,
   "metadata": {
    "collapsed": true,
    "jupyter": {
     "outputs_hidden": true
    }
   },
   "outputs": [
    {
     "data": {
      "image/png": "[encoded data removed]",
      "text/plain": [
       "<Figure size 1152x648 with 1 Axes>"
      ]
     },
     "metadata": {},
     "output_type": "display_data"
    }
   ],
   "source": [
    "plt.plot(K, sl_sum_of_squared_distances, 'bx-')\n",
    "plt.xlabel('k')\n",
    "plt.ylabel('sum_of_squared_distances')\n",
    "plt.title('elbow method for optimal k')\n",
    "plt.show()"
   ]
  },
  {
   "cell_type": "code",
   "execution_count": 106,
   "metadata": {},
   "outputs": [
    {
     "data": {
      "text/plain": [
       "576.5788272511757"
      ]
     },
     "execution_count": 106,
     "metadata": {},
     "output_type": "execute_result"
    }
   ],
   "source": [
    "sl_k_means_2 = KMeans(n_clusters=4)\n",
    "sl_model = sl_k_means_2.fit(sl_X)\n",
    "sl_y_hat_2 = sl_k_means_2.predict(sl_X)\n",
    "sl_labels_2 = sl_k_means_2.labels_\n",
    "metrics.silhouette_score(sl_X, sl_labels_2, metric = 'euclidean')\n",
    "metrics.calinski_harabasz_score(sl_X, sl_labels_2)"
   ]
  },
  {
   "cell_type": "code",
   "execution_count": 107,
   "metadata": {},
   "outputs": [
    {
     "data": {
      "text/html": [
       "<div>\n",
       "<style scoped>\n",
       "    .dataframe tbody tr th:only-of-type {\n",
       "        vertical-align: middle;\n",
       "    }\n",
       "\n",
       "    .dataframe tbody tr th {\n",
       "        vertical-align: top;\n",
       "    }\n",
       "\n",
       "    .dataframe thead th {\n",
       "        text-align: right;\n",
       "    }\n",
       "</style>\n",
       "<table border=\"1\" class=\"dataframe\">\n",
       "  <thead>\n",
       "    <tr style=\"text-align: right;\">\n",
       "      <th></th>\n",
       "      <th>release_spin_rate</th>\n",
       "      <th>release_speed</th>\n",
       "      <th>pfx_x</th>\n",
       "      <th>pfx_z</th>\n",
       "      <th>prediction</th>\n",
       "      <th>count</th>\n",
       "    </tr>\n",
       "  </thead>\n",
       "  <tbody>\n",
       "    <tr>\n",
       "      <th>0</th>\n",
       "      <td>2731.844828</td>\n",
       "      <td>81.709483</td>\n",
       "      <td>0.964306</td>\n",
       "      <td>-0.117269</td>\n",
       "      <td>0</td>\n",
       "      <td>116</td>\n",
       "    </tr>\n",
       "    <tr>\n",
       "      <th>1</th>\n",
       "      <td>2864.897059</td>\n",
       "      <td>82.058824</td>\n",
       "      <td>0.979243</td>\n",
       "      <td>-0.113000</td>\n",
       "      <td>1</td>\n",
       "      <td>68</td>\n",
       "    </tr>\n",
       "    <tr>\n",
       "      <th>2</th>\n",
       "      <td>1417.000000</td>\n",
       "      <td>82.800000</td>\n",
       "      <td>1.100000</td>\n",
       "      <td>0.000000</td>\n",
       "      <td>2</td>\n",
       "      <td>1</td>\n",
       "    </tr>\n",
       "    <tr>\n",
       "      <th>3</th>\n",
       "      <td>2599.252632</td>\n",
       "      <td>81.316842</td>\n",
       "      <td>0.894334</td>\n",
       "      <td>-0.081833</td>\n",
       "      <td>3</td>\n",
       "      <td>95</td>\n",
       "    </tr>\n",
       "  </tbody>\n",
       "</table>\n",
       "</div>"
      ],
      "text/plain": [
       "   release_spin_rate  release_speed     pfx_x     pfx_z  prediction  count\n",
       "0        2731.844828      81.709483  0.964306 -0.117269           0    116\n",
       "1        2864.897059      82.058824  0.979243 -0.113000           1     68\n",
       "2        1417.000000      82.800000  1.100000  0.000000           2      1\n",
       "3        2599.252632      81.316842  0.894334 -0.081833           3     95"
      ]
     },
     "execution_count": 107,
     "metadata": {},
     "output_type": "execute_result"
    }
   ],
   "source": [
    "sl_centers = sl_model.cluster_centers_\n",
    "#function that creates a dataframe with a column for cluster number\n",
    "def pd_centers(cols_of_interest, centers):\n",
    "        sl_colNames = list(cols_of_interest)\n",
    "        sl_colNames.append('prediction')\n",
    "# Zip with a column called 'prediction' (index)\n",
    "        sl_Z = [np.append(A, index) for index, A in enumerate(centers)]\n",
    "# Convert to pandas data frame\n",
    "        sl_P = pd.DataFrame(sl_Z, columns=sl_colNames)\n",
    "        sl_P['prediction'] = P['prediction'].astype(int)\n",
    "        sl_P['count'] = pd.value_counts(sl_k_means_2.labels_)\n",
    "        return sl_P\n",
    "sl_P = pd_centers(sl_cols_of_interest, sl_centers)\n",
    "sl_P"
   ]
  },
  {
   "cell_type": "markdown",
   "metadata": {},
   "source": [
    "### 4-Seam Fastball (FF)"
   ]
  },
  {
   "cell_type": "code",
   "execution_count": 47,
   "metadata": {},
   "outputs": [],
   "source": [
    "ff_data = sub_col.groupby(\"p_type\").get_group(2)\n",
    "\n",
    "ff_cols_of_interest = [\"release_spin_rate\",\"release_speed\",\"pfx_x\", \"pfx_z\"]\n",
    "\n",
    "ff_data = ff_data[ff_cols_of_interest]\n",
    "\n",
    "ff_X = np.array(ff_data)"
   ]
  },
  {
   "cell_type": "code",
   "execution_count": 109,
   "metadata": {},
   "outputs": [],
   "source": [
    "ff_sum_of_squared_distances = []\n",
    "K = range(1,15)\n",
    "for k in K:\n",
    "    ff_k_means = KMeans(n_clusters=k)\n",
    "    ff_model = ff_k_means.fit(ff_X)\n",
    "    ff_sum_of_squared_distances.append(ff_k_means.inertia_)"
   ]
  },
  {
   "cell_type": "code",
   "execution_count": 110,
   "metadata": {
    "collapsed": true,
    "jupyter": {
     "outputs_hidden": true
    }
   },
   "outputs": [
    {
     "data": {
      "image/png": "[encoded data removed]",
      "text/plain": [
       "<Figure size 1152x648 with 1 Axes>"
      ]
     },
     "metadata": {},
     "output_type": "display_data"
    }
   ],
   "source": [
    "plt.plot(K, ff_sum_of_squared_distances, 'bx-')\n",
    "plt.xlabel('k')\n",
    "plt.ylabel('sum_of_squared_distances')\n",
    "plt.title('elbow method for optimal k')\n",
    "plt.show()"
   ]
  },
  {
   "cell_type": "code",
   "execution_count": 115,
   "metadata": {},
   "outputs": [
    {
     "data": {
      "text/plain": [
       "735.2954749727677"
      ]
     },
     "execution_count": 115,
     "metadata": {},
     "output_type": "execute_result"
    }
   ],
   "source": [
    "ff_k_means_2 = KMeans(n_clusters=4)\n",
    "ff_model = ff_k_means_2.fit(ff_X)\n",
    "ff_y_hat_2 = ff_k_means_2.predict(ff_X)\n",
    "ff_labels_2 = ff_k_means_2.labels_\n",
    "metrics.silhouette_score(ff_X, ff_labels_2, metric = 'euclidean')\n",
    "metrics.calinski_harabasz_score(ff_X, ff_labels_2)"
   ]
  },
  {
   "cell_type": "code",
   "execution_count": 116,
   "metadata": {},
   "outputs": [
    {
     "data": {
      "text/html": [
       "<div>\n",
       "<style scoped>\n",
       "    .dataframe tbody tr th:only-of-type {\n",
       "        vertical-align: middle;\n",
       "    }\n",
       "\n",
       "    .dataframe tbody tr th {\n",
       "        vertical-align: top;\n",
       "    }\n",
       "\n",
       "    .dataframe thead th {\n",
       "        text-align: right;\n",
       "    }\n",
       "</style>\n",
       "<table border=\"1\" class=\"dataframe\">\n",
       "  <thead>\n",
       "    <tr style=\"text-align: right;\">\n",
       "      <th></th>\n",
       "      <th>release_spin_rate</th>\n",
       "      <th>release_speed</th>\n",
       "      <th>pfx_x</th>\n",
       "      <th>pfx_z</th>\n",
       "      <th>prediction</th>\n",
       "      <th>count</th>\n",
       "    </tr>\n",
       "  </thead>\n",
       "  <tbody>\n",
       "    <tr>\n",
       "      <th>0</th>\n",
       "      <td>2083.111748</td>\n",
       "      <td>92.908023</td>\n",
       "      <td>-0.732145</td>\n",
       "      <td>1.018403</td>\n",
       "      <td>0</td>\n",
       "      <td>349</td>\n",
       "    </tr>\n",
       "    <tr>\n",
       "      <th>1</th>\n",
       "      <td>2294.383142</td>\n",
       "      <td>93.286590</td>\n",
       "      <td>-0.751294</td>\n",
       "      <td>1.137259</td>\n",
       "      <td>1</td>\n",
       "      <td>261</td>\n",
       "    </tr>\n",
       "    <tr>\n",
       "      <th>2</th>\n",
       "      <td>2998.857143</td>\n",
       "      <td>93.542857</td>\n",
       "      <td>-0.742857</td>\n",
       "      <td>1.100000</td>\n",
       "      <td>2</td>\n",
       "      <td>7</td>\n",
       "    </tr>\n",
       "    <tr>\n",
       "      <th>3</th>\n",
       "      <td>1374.500000</td>\n",
       "      <td>93.733333</td>\n",
       "      <td>-0.683333</td>\n",
       "      <td>1.150000</td>\n",
       "      <td>3</td>\n",
       "      <td>6</td>\n",
       "    </tr>\n",
       "  </tbody>\n",
       "</table>\n",
       "</div>"
      ],
      "text/plain": [
       "   release_spin_rate  release_speed     pfx_x     pfx_z  prediction  count\n",
       "0        2083.111748      92.908023 -0.732145  1.018403           0    349\n",
       "1        2294.383142      93.286590 -0.751294  1.137259           1    261\n",
       "2        2998.857143      93.542857 -0.742857  1.100000           2      7\n",
       "3        1374.500000      93.733333 -0.683333  1.150000           3      6"
      ]
     },
     "execution_count": 116,
     "metadata": {},
     "output_type": "execute_result"
    }
   ],
   "source": [
    "ff_centers = ff_model.cluster_centers_\n",
    "#function that creates a dataframe with a column for cluster number\n",
    "def pd_centers(cols_of_interest, centers):\n",
    "        ff_colNames = list(cols_of_interest)\n",
    "        ff_colNames.append('prediction')\n",
    "# Zip with a column called 'prediction' (index)\n",
    "        ff_Z = [np.append(A, index) for index, A in enumerate(centers)]\n",
    "# Convert to pandas data frame\n",
    "        ff_P = pd.DataFrame(ff_Z, columns=ff_colNames)\n",
    "        ff_P['prediction'] = P['prediction'].astype(int)\n",
    "        ff_P['count'] = pd.value_counts(ff_k_means_2.labels_)\n",
    "        return ff_P\n",
    "ff_P = pd_centers(ff_cols_of_interest, ff_centers)\n",
    "ff_P"
   ]
  },
  {
   "cell_type": "markdown",
   "metadata": {},
   "source": [
    "### Cutter (FC)"
   ]
  },
  {
   "cell_type": "code",
   "execution_count": 48,
   "metadata": {},
   "outputs": [],
   "source": [
    "fc_data = sub_col.groupby(\"p_type\").get_group(4)\n",
    "\n",
    "fc_cols_of_interest = [\"release_spin_rate\",\"release_speed\",\"pfx_x\", \"pfx_z\"]\n",
    "\n",
    "fc_data = fc_data[fc_cols_of_interest]\n",
    "\n",
    "fc_X = np.array(fc_data)"
   ]
  },
  {
   "cell_type": "code",
   "execution_count": 118,
   "metadata": {},
   "outputs": [],
   "source": [
    "fc_sum_of_squared_distances = []\n",
    "K = range(1,15)\n",
    "for k in K:\n",
    "    fc_k_means = KMeans(n_clusters=k)\n",
    "    fc_model = fc_k_means.fit(fc_X)\n",
    "    fc_sum_of_squared_distances.append(fc_k_means.inertia_)"
   ]
  },
  {
   "cell_type": "code",
   "execution_count": 119,
   "metadata": {
    "collapsed": true,
    "jupyter": {
     "outputs_hidden": true
    }
   },
   "outputs": [
    {
     "data": {
      "image/png": "[encoded data removed]",
      "text/plain": [
       "<Figure size 1152x648 with 1 Axes>"
      ]
     },
     "metadata": {},
     "output_type": "display_data"
    }
   ],
   "source": [
    "plt.plot(K, fc_sum_of_squared_distances, 'bx-')\n",
    "plt.xlabel('k')\n",
    "plt.ylabel('sum_of_squared_distances')\n",
    "plt.title('elbow method for optimal k')\n",
    "plt.show()"
   ]
  },
  {
   "cell_type": "code",
   "execution_count": 128,
   "metadata": {},
   "outputs": [
    {
     "data": {
      "text/plain": [
       "127.3835319119095"
      ]
     },
     "execution_count": 128,
     "metadata": {},
     "output_type": "execute_result"
    }
   ],
   "source": [
    "fc_k_means_2 = KMeans(n_clusters=4)\n",
    "fc_model = fc_k_means_2.fit(fc_X)\n",
    "fc_y_hat_2 = fc_k_means_2.predict(fc_X)\n",
    "fc_labels_2 = fc_k_means_2.labels_\n",
    "metrics.silhouette_score(fc_X, fc_labels_2, metric = 'euclidean')\n",
    "metrics.calinski_harabasz_score(fc_X, fc_labels_2)"
   ]
  },
  {
   "cell_type": "code",
   "execution_count": 129,
   "metadata": {},
   "outputs": [
    {
     "data": {
      "text/html": [
       "<div>\n",
       "<style scoped>\n",
       "    .dataframe tbody tr th:only-of-type {\n",
       "        vertical-align: middle;\n",
       "    }\n",
       "\n",
       "    .dataframe tbody tr th {\n",
       "        vertical-align: top;\n",
       "    }\n",
       "\n",
       "    .dataframe thead th {\n",
       "        text-align: right;\n",
       "    }\n",
       "</style>\n",
       "<table border=\"1\" class=\"dataframe\">\n",
       "  <thead>\n",
       "    <tr style=\"text-align: right;\">\n",
       "      <th></th>\n",
       "      <th>release_spin_rate</th>\n",
       "      <th>release_speed</th>\n",
       "      <th>pfx_x</th>\n",
       "      <th>pfx_z</th>\n",
       "      <th>prediction</th>\n",
       "      <th>count</th>\n",
       "    </tr>\n",
       "  </thead>\n",
       "  <tbody>\n",
       "    <tr>\n",
       "      <th>0</th>\n",
       "      <td>2306.12</td>\n",
       "      <td>90.344</td>\n",
       "      <td>-0.116</td>\n",
       "      <td>0.684</td>\n",
       "      <td>0</td>\n",
       "      <td>25</td>\n",
       "    </tr>\n",
       "    <tr>\n",
       "      <th>1</th>\n",
       "      <td>3106.00</td>\n",
       "      <td>89.700</td>\n",
       "      <td>0.050</td>\n",
       "      <td>0.700</td>\n",
       "      <td>1</td>\n",
       "      <td>2</td>\n",
       "    </tr>\n",
       "    <tr>\n",
       "      <th>2</th>\n",
       "      <td>2450.40</td>\n",
       "      <td>90.645</td>\n",
       "      <td>-0.115</td>\n",
       "      <td>0.695</td>\n",
       "      <td>2</td>\n",
       "      <td>20</td>\n",
       "    </tr>\n",
       "    <tr>\n",
       "      <th>3</th>\n",
       "      <td>1912.25</td>\n",
       "      <td>91.175</td>\n",
       "      <td>-0.200</td>\n",
       "      <td>0.675</td>\n",
       "      <td>3</td>\n",
       "      <td>4</td>\n",
       "    </tr>\n",
       "  </tbody>\n",
       "</table>\n",
       "</div>"
      ],
      "text/plain": [
       "   release_spin_rate  release_speed  pfx_x  pfx_z  prediction  count\n",
       "0            2306.12         90.344 -0.116  0.684           0     25\n",
       "1            3106.00         89.700  0.050  0.700           1      2\n",
       "2            2450.40         90.645 -0.115  0.695           2     20\n",
       "3            1912.25         91.175 -0.200  0.675           3      4"
      ]
     },
     "execution_count": 129,
     "metadata": {},
     "output_type": "execute_result"
    }
   ],
   "source": [
    "fc_centers = fc_model.cluster_centers_\n",
    "#function that creates a dataframe with a column for cluster number\n",
    "def pd_centers(cols_of_interest, centers):\n",
    "        fc_colNames = list(cols_of_interest)\n",
    "        fc_colNames.append('prediction')\n",
    "# Zip with a column called 'prediction' (index)\n",
    "        fc_Z = [np.append(A, index) for index, A in enumerate(centers)]\n",
    "# Convert to pandas data frame\n",
    "        fc_P = pd.DataFrame(fc_Z, columns=fc_colNames)\n",
    "        fc_P['prediction'] = P['prediction'].astype(int)\n",
    "        fc_P['count'] = pd.value_counts(fc_k_means_2.labels_)\n",
    "        return fc_P\n",
    "fc_P = pd_centers(fc_cols_of_interest, fc_centers)\n",
    "fc_P"
   ]
  },
  {
   "cell_type": "markdown",
   "metadata": {},
   "source": [
    "## Outcome analysis by pitch subgroup"
   ]
  },
  {
   "cell_type": "code",
   "execution_count": 50,
   "metadata": {},
   "outputs": [
    {
     "data": {
      "text/plain": [
       "1674"
      ]
     },
     "execution_count": 50,
     "metadata": {},
     "output_type": "execute_result"
    }
   ],
   "source": [
    "outcomes = lw_val_col.copy()\n",
    "len(outcomes)"
   ]
  },
  {
   "cell_type": "markdown",
   "metadata": {},
   "source": [
    "### 4-Seam Fastball"
   ]
  },
  {
   "cell_type": "code",
   "execution_count": 9,
   "metadata": {},
   "outputs": [],
   "source": [
    "ff_outcome = outcomes.groupby(\"pitch_type\").get_group(\"FF\")"
   ]
  },
  {
   "cell_type": "code",
   "execution_count": 311,
   "metadata": {},
   "outputs": [],
   "source": [
    "ff1_outcome = ff_outcome.query(\"release_spin_rate <= 2083 and release_speed <= 92.91\")\n",
    "ff2_outcome = ff_outcome.query(\"release_spin_rate >= 2294 and release_speed >= 93.29\")"
   ]
  },
  {
   "cell_type": "markdown",
   "metadata": {},
   "source": [
    "#### Swinging Strike % (the percentage of all pitches thrown of that kind that generate swings and misses)"
   ]
  },
  {
   "cell_type": "code",
   "execution_count": 312,
   "metadata": {},
   "outputs": [
    {
     "data": {
      "text/plain": [
       "0.15822784810126583"
      ]
     },
     "execution_count": 312,
     "metadata": {},
     "output_type": "execute_result"
    }
   ],
   "source": [
    "# FF1 sub type\n",
    "def swingingStrike(pitch_outcome, subpitch_outcome):\n",
    "    \n",
    "    ss =[\"swinging_strike\"]\n",
    "\n",
    "    ff1_ss = subpitch_outcome.query(\"description in @ ss\")\n",
    "\n",
    "    return len(ff1_ss)/len(pitch_outcome)*100\n",
    "\n",
    "swingingStrike(ff_outcome, ff1_outcome)\n",
    "\n",
    "# FF2 sub type\n",
    "\n",
    "swingingStrike(ff_outcome, ff2_outcome)\n",
    "\n",
    "# between FF1_FF2"
   ]
  },
  {
   "cell_type": "markdown",
   "metadata": {},
   "source": [
    "#### Exit Velo"
   ]
  },
  {
   "cell_type": "code",
   "execution_count": 274,
   "metadata": {},
   "outputs": [
    {
     "data": {
      "text/plain": [
       "86.64499999999998"
      ]
     },
     "execution_count": 274,
     "metadata": {},
     "output_type": "execute_result"
    }
   ],
   "source": [
    "ff1_outcome[\"launch_speed\"].mean()\n",
    "ff2_outcome[\"launch_speed\"].mean()"
   ]
  },
  {
   "cell_type": "markdown",
   "metadata": {},
   "source": [
    "#### Launch Angle > 40º"
   ]
  },
  {
   "cell_type": "code",
   "execution_count": 306,
   "metadata": {},
   "outputs": [],
   "source": [
    "def launchAngle40(la_outcome):\n",
    "    la40 = la_outcome.query(\"launch_angle > 40\")\n",
    "    return len(la40)/len(la_outcome)*100"
   ]
  },
  {
   "cell_type": "markdown",
   "metadata": {},
   "source": [
    "#### Launch Angle < 0º"
   ]
  },
  {
   "cell_type": "code",
   "execution_count": 307,
   "metadata": {},
   "outputs": [],
   "source": [
    "def launchAngle0(la_outcome):\n",
    "    la0 = la_outcome.query(\"launch_angle < 0\")\n",
    "    return len(la0)/len(la_outcome)*100"
   ]
  },
  {
   "cell_type": "code",
   "execution_count": 309,
   "metadata": {},
   "outputs": [
    {
     "data": {
      "text/plain": [
       "4.6875"
      ]
     },
     "execution_count": 309,
     "metadata": {},
     "output_type": "execute_result"
    }
   ],
   "source": [
    "launchAngle0(ff2_outcome)"
   ]
  },
  {
   "cell_type": "markdown",
   "metadata": {},
   "source": [
    "### Change Up"
   ]
  },
  {
   "cell_type": "code",
   "execution_count": 14,
   "metadata": {},
   "outputs": [
    {
     "data": {
      "text/plain": [
       "443"
      ]
     },
     "execution_count": 14,
     "metadata": {},
     "output_type": "execute_result"
    }
   ],
   "source": [
    "ch_outcome = outcomes.groupby(\"pitch_type\").get_group(\"CH\")\n",
    "len(ch_outcome)"
   ]
  },
  {
   "cell_type": "code",
   "execution_count": 340,
   "metadata": {},
   "outputs": [],
   "source": [
    "ch1_outcome = ch_outcome.query(\"release_spin_rate <= 1504\")\n",
    "ch2_outcome = ch_outcome.query(\"release_spin_rate >= 1665\")"
   ]
  },
  {
   "cell_type": "code",
   "execution_count": 341,
   "metadata": {},
   "outputs": [],
   "source": [
    "# Swing Strike\n",
    "\n",
    "def swingingStrike(pitch_outcome, subpitch_outcome):\n",
    "    \n",
    "    ss =[\"swinging_strike\"]\n",
    "\n",
    "    pitch_ss = subpitch_outcome.query(\"description in @ ss\")\n",
    "\n",
    "    return len(pitch_ss)/len(pitch_outcome)*100"
   ]
  },
  {
   "cell_type": "code",
   "execution_count": 342,
   "metadata": {},
   "outputs": [
    {
     "data": {
      "text/plain": [
       "2.9345372460496613"
      ]
     },
     "execution_count": 342,
     "metadata": {},
     "output_type": "execute_result"
    }
   ],
   "source": [
    "swingingStrike(ch_outcome, ch1_outcome)"
   ]
  },
  {
   "cell_type": "code",
   "execution_count": 343,
   "metadata": {},
   "outputs": [
    {
     "data": {
      "text/plain": [
       "3.3860045146726865"
      ]
     },
     "execution_count": 343,
     "metadata": {},
     "output_type": "execute_result"
    }
   ],
   "source": [
    "swingingStrike(ch_outcome, ch2_outcome)"
   ]
  },
  {
   "cell_type": "code",
   "execution_count": 344,
   "metadata": {},
   "outputs": [
    {
     "name": "stdout",
     "output_type": "stream",
     "text": [
      "85.93928571428572\n",
      "90.995\n"
     ]
    }
   ],
   "source": [
    "# Exit Velo\n",
    "\n",
    "print(ch1_outcome[\"launch_speed\"].mean())\n",
    "print(ch2_outcome[\"launch_speed\"].mean())"
   ]
  },
  {
   "cell_type": "code",
   "execution_count": null,
   "metadata": {},
   "outputs": [],
   "source": [
    "# Launch Angle 40\n",
    "def launchAngle40(la_outcome):\n",
    "    la40 = la_outcome.query(\"launch_angle > 40\")\n",
    "    return len(la40)/len(la_outcome)*100\n",
    "\n",
    "# Launch Angle 0 \n",
    "def launchAngle0(la_outcome):\n",
    "    la0 = la_outcome.query(\"launch_angle < 0\")\n",
    "    return len(la0)/len(la_outcome)*100"
   ]
  },
  {
   "cell_type": "code",
   "execution_count": 345,
   "metadata": {},
   "outputs": [
    {
     "data": {
      "text/plain": [
       "1.0869565217391304"
      ]
     },
     "execution_count": 345,
     "metadata": {},
     "output_type": "execute_result"
    }
   ],
   "source": [
    "launchAngle40(ch1_outcome)"
   ]
  },
  {
   "cell_type": "code",
   "execution_count": 346,
   "metadata": {},
   "outputs": [
    {
     "data": {
      "text/plain": [
       "5.555555555555555"
      ]
     },
     "execution_count": 346,
     "metadata": {},
     "output_type": "execute_result"
    }
   ],
   "source": [
    "launchAngle40(ch2_outcome)"
   ]
  },
  {
   "cell_type": "code",
   "execution_count": 348,
   "metadata": {},
   "outputs": [
    {
     "data": {
      "text/plain": [
       "14.130434782608695"
      ]
     },
     "execution_count": 348,
     "metadata": {},
     "output_type": "execute_result"
    }
   ],
   "source": [
    "launchAngle0(ch1_outcome)"
   ]
  },
  {
   "cell_type": "code",
   "execution_count": 349,
   "metadata": {},
   "outputs": [
    {
     "data": {
      "text/plain": [
       "7.777777777777778"
      ]
     },
     "execution_count": 349,
     "metadata": {},
     "output_type": "execute_result"
    }
   ],
   "source": [
    "launchAngle0(ch2_outcome)"
   ]
  },
  {
   "cell_type": "markdown",
   "metadata": {},
   "source": [
    "### Sinker"
   ]
  },
  {
   "cell_type": "code",
   "execution_count": 51,
   "metadata": {},
   "outputs": [
    {
     "data": {
      "text/plain": [
       "234"
      ]
     },
     "execution_count": 51,
     "metadata": {},
     "output_type": "execute_result"
    }
   ],
   "source": [
    "si_outcome = outcomes.groupby(\"pitch_type\").get_group(\"SI\")\n",
    "len(si_outcome)"
   ]
  },
  {
   "cell_type": "code",
   "execution_count": 53,
   "metadata": {},
   "outputs": [],
   "source": [
    "si1_outcome = si_outcome.query(\"release_spin_rate <= 1946\")\n",
    "si2_outcome = si_outcome.query(\"release_spin_rate >= 2131\")"
   ]
  },
  {
   "cell_type": "code",
   "execution_count": 54,
   "metadata": {},
   "outputs": [],
   "source": [
    "# Swing Strike\n",
    "\n",
    "def swingingStrike(pitch_outcome, subpitch_outcome):\n",
    "    \n",
    "    ss =[\"swinging_strike\"]\n",
    "\n",
    "    pitch_ss = subpitch_outcome.query(\"description in @ ss\")\n",
    "\n",
    "    return len(pitch_ss)/len(pitch_outcome)*100"
   ]
  },
  {
   "cell_type": "code",
   "execution_count": 55,
   "metadata": {},
   "outputs": [
    {
     "data": {
      "text/plain": [
       "0.4273504273504274"
      ]
     },
     "execution_count": 55,
     "metadata": {},
     "output_type": "execute_result"
    }
   ],
   "source": [
    "swingingStrike(si_outcome, si1_outcome)"
   ]
  },
  {
   "cell_type": "code",
   "execution_count": 56,
   "metadata": {},
   "outputs": [
    {
     "data": {
      "text/plain": [
       "0.8547008547008548"
      ]
     },
     "execution_count": 56,
     "metadata": {},
     "output_type": "execute_result"
    }
   ],
   "source": [
    "swingingStrike(si_outcome, si2_outcome)"
   ]
  },
  {
   "cell_type": "code",
   "execution_count": 57,
   "metadata": {},
   "outputs": [
    {
     "name": "stdout",
     "output_type": "stream",
     "text": [
      "81.65714285714286\n",
      "88.58181818181818\n"
     ]
    }
   ],
   "source": [
    "# Exit Velo\n",
    "\n",
    "print(si1_outcome[\"launch_speed\"].mean())\n",
    "print(si2_outcome[\"launch_speed\"].mean())"
   ]
  },
  {
   "cell_type": "code",
   "execution_count": 58,
   "metadata": {},
   "outputs": [],
   "source": [
    "# Launch Angle 40\n",
    "def launchAngle40(la_outcome):\n",
    "    la40 = la_outcome.query(\"launch_angle > 40\")\n",
    "    return len(la40)/len(la_outcome)*100\n",
    "\n",
    "# Launch Angle 0 \n",
    "def launchAngle0(la_outcome):\n",
    "    la0 = la_outcome.query(\"launch_angle < 0\")\n",
    "    return len(la0)/len(la_outcome)*100"
   ]
  },
  {
   "cell_type": "code",
   "execution_count": 59,
   "metadata": {},
   "outputs": [
    {
     "data": {
      "text/plain": [
       "0.0"
      ]
     },
     "execution_count": 59,
     "metadata": {},
     "output_type": "execute_result"
    }
   ],
   "source": [
    "launchAngle40(si1_outcome)"
   ]
  },
  {
   "cell_type": "code",
   "execution_count": 60,
   "metadata": {},
   "outputs": [
    {
     "data": {
      "text/plain": [
       "5.405405405405405"
      ]
     },
     "execution_count": 60,
     "metadata": {},
     "output_type": "execute_result"
    }
   ],
   "source": [
    "launchAngle40(si2_outcome)"
   ]
  },
  {
   "cell_type": "code",
   "execution_count": 61,
   "metadata": {},
   "outputs": [
    {
     "data": {
      "text/plain": [
       "22.413793103448278"
      ]
     },
     "execution_count": 61,
     "metadata": {},
     "output_type": "execute_result"
    }
   ],
   "source": [
    "launchAngle0(si1_outcome)"
   ]
  },
  {
   "cell_type": "code",
   "execution_count": 62,
   "metadata": {},
   "outputs": [
    {
     "data": {
      "text/plain": [
       "13.513513513513514"
      ]
     },
     "execution_count": 62,
     "metadata": {},
     "output_type": "execute_result"
    }
   ],
   "source": [
    "launchAngle0(si2_outcome)"
   ]
  },
  {
   "cell_type": "markdown",
   "metadata": {},
   "source": [
    "### Slider"
   ]
  },
  {
   "cell_type": "code",
   "execution_count": 16,
   "metadata": {},
   "outputs": [
    {
     "data": {
      "text/plain": [
       "312"
      ]
     },
     "execution_count": 16,
     "metadata": {},
     "output_type": "execute_result"
    }
   ],
   "source": [
    "sl_outcome = outcomes.groupby(\"pitch_type\").get_group(\"SL\")\n",
    "len(sl_outcome)"
   ]
  },
  {
   "cell_type": "code",
   "execution_count": 86,
   "metadata": {},
   "outputs": [],
   "source": [
    "sl1_outcome = sl_outcome.query(\"release_spin_rate <= 2732 and release_spin_rate < 2865\")\n",
    "sl2_outcome = sl_outcome.query(\"release_spin_rate >= 2865\")\n",
    "sl3_outcome = sl_outcome.query(\"release_spin_rate <= 2599\")"
   ]
  },
  {
   "cell_type": "code",
   "execution_count": 385,
   "metadata": {},
   "outputs": [
    {
     "data": {
      "text/plain": [
       "3.205128205128205"
      ]
     },
     "execution_count": 385,
     "metadata": {},
     "output_type": "execute_result"
    }
   ],
   "source": [
    "swingingStrike(sl_outcome, sl1_outcome)"
   ]
  },
  {
   "cell_type": "code",
   "execution_count": 386,
   "metadata": {},
   "outputs": [
    {
     "data": {
      "text/plain": [
       "1.282051282051282"
      ]
     },
     "execution_count": 386,
     "metadata": {},
     "output_type": "execute_result"
    }
   ],
   "source": [
    "swingingStrike(sl_outcome, sl2_outcome)"
   ]
  },
  {
   "cell_type": "code",
   "execution_count": 387,
   "metadata": {},
   "outputs": [
    {
     "data": {
      "text/plain": [
       "1.282051282051282"
      ]
     },
     "execution_count": 387,
     "metadata": {},
     "output_type": "execute_result"
    }
   ],
   "source": [
    "swingingStrike(sl_outcome, sl3_outcome)"
   ]
  },
  {
   "cell_type": "code",
   "execution_count": 390,
   "metadata": {},
   "outputs": [
    {
     "name": "stdout",
     "output_type": "stream",
     "text": [
      "83.75294117647059\n",
      "70.03333333333335\n",
      "87.15\n"
     ]
    }
   ],
   "source": [
    "# Exit Velo\n",
    "\n",
    "print(sl1_outcome[\"launch_speed\"].mean())\n",
    "print(sl2_outcome[\"launch_speed\"].mean())\n",
    "print(sl3_outcome[\"launch_speed\"].mean())"
   ]
  },
  {
   "cell_type": "code",
   "execution_count": 391,
   "metadata": {},
   "outputs": [
    {
     "data": {
      "text/plain": [
       "5.228758169934641"
      ]
     },
     "execution_count": 391,
     "metadata": {},
     "output_type": "execute_result"
    }
   ],
   "source": [
    "launchAngle40(sl1_outcome)"
   ]
  },
  {
   "cell_type": "code",
   "execution_count": 392,
   "metadata": {},
   "outputs": [
    {
     "data": {
      "text/plain": [
       "0.0"
      ]
     },
     "execution_count": 392,
     "metadata": {},
     "output_type": "execute_result"
    }
   ],
   "source": [
    "launchAngle40(sl2_outcome)"
   ]
  },
  {
   "cell_type": "code",
   "execution_count": 393,
   "metadata": {},
   "outputs": [
    {
     "data": {
      "text/plain": [
       "10.0"
      ]
     },
     "execution_count": 393,
     "metadata": {},
     "output_type": "execute_result"
    }
   ],
   "source": [
    "launchAngle40(sl3_outcome)"
   ]
  },
  {
   "cell_type": "code",
   "execution_count": 394,
   "metadata": {},
   "outputs": [
    {
     "data": {
      "text/plain": [
       "8.49673202614379"
      ]
     },
     "execution_count": 394,
     "metadata": {},
     "output_type": "execute_result"
    }
   ],
   "source": [
    "launchAngle0(sl1_outcome)"
   ]
  },
  {
   "cell_type": "code",
   "execution_count": 395,
   "metadata": {},
   "outputs": [
    {
     "data": {
      "text/plain": [
       "7.4074074074074066"
      ]
     },
     "execution_count": 395,
     "metadata": {},
     "output_type": "execute_result"
    }
   ],
   "source": [
    "launchAngle0(sl2_outcome)"
   ]
  },
  {
   "cell_type": "code",
   "execution_count": 396,
   "metadata": {},
   "outputs": [
    {
     "data": {
      "text/plain": [
       "0.0"
      ]
     },
     "execution_count": 396,
     "metadata": {},
     "output_type": "execute_result"
    }
   ],
   "source": [
    "launchAngle0(sl3_outcome)"
   ]
  },
  {
   "cell_type": "markdown",
   "metadata": {},
   "source": [
    "### Cutter"
   ]
  },
  {
   "cell_type": "code",
   "execution_count": 17,
   "metadata": {},
   "outputs": [
    {
     "data": {
      "text/plain": [
       "53"
      ]
     },
     "execution_count": 17,
     "metadata": {},
     "output_type": "execute_result"
    }
   ],
   "source": [
    "fc_outcome = outcomes.groupby(\"pitch_type\").get_group(\"FC\")\n",
    "len(fc_outcome)"
   ]
  },
  {
   "cell_type": "code",
   "execution_count": 397,
   "metadata": {},
   "outputs": [],
   "source": [
    "fc1_outcome = fc_outcome.query(\"release_spin_rate <= 2306\")\n",
    "fc2_outcome = fc_outcome.query(\"release_spin_rate >= 2450\")"
   ]
  },
  {
   "cell_type": "code",
   "execution_count": 400,
   "metadata": {},
   "outputs": [
    {
     "data": {
      "text/plain": [
       "3.7735849056603774"
      ]
     },
     "execution_count": 400,
     "metadata": {},
     "output_type": "execute_result"
    }
   ],
   "source": [
    "swingingStrike(fc_outcome, fc1_outcome)"
   ]
  },
  {
   "cell_type": "code",
   "execution_count": 401,
   "metadata": {},
   "outputs": [
    {
     "data": {
      "text/plain": [
       "1.8867924528301887"
      ]
     },
     "execution_count": 401,
     "metadata": {},
     "output_type": "execute_result"
    }
   ],
   "source": [
    "swingingStrike(fc_outcome, fc2_outcome)"
   ]
  },
  {
   "cell_type": "code",
   "execution_count": 402,
   "metadata": {},
   "outputs": [
    {
     "name": "stdout",
     "output_type": "stream",
     "text": [
      "79.0\n",
      "76.95\n"
     ]
    }
   ],
   "source": [
    "# Exit Velo\n",
    "\n",
    "print(fc1_outcome[\"launch_speed\"].mean())\n",
    "print(fc2_outcome[\"launch_speed\"].mean())"
   ]
  },
  {
   "cell_type": "code",
   "execution_count": 403,
   "metadata": {},
   "outputs": [
    {
     "data": {
      "text/plain": [
       "0.0"
      ]
     },
     "execution_count": 403,
     "metadata": {},
     "output_type": "execute_result"
    }
   ],
   "source": [
    "launchAngle40(fc1_outcome)"
   ]
  },
  {
   "cell_type": "code",
   "execution_count": 404,
   "metadata": {},
   "outputs": [
    {
     "data": {
      "text/plain": [
       "15.384615384615385"
      ]
     },
     "execution_count": 404,
     "metadata": {},
     "output_type": "execute_result"
    }
   ],
   "source": [
    "launchAngle40(fc2_outcome)"
   ]
  },
  {
   "cell_type": "code",
   "execution_count": 405,
   "metadata": {},
   "outputs": [
    {
     "data": {
      "text/plain": [
       "0.0"
      ]
     },
     "execution_count": 405,
     "metadata": {},
     "output_type": "execute_result"
    }
   ],
   "source": [
    "launchAngle0(fc1_outcome)"
   ]
  },
  {
   "cell_type": "code",
   "execution_count": 406,
   "metadata": {},
   "outputs": [
    {
     "data": {
      "text/plain": [
       "0.0"
      ]
     },
     "execution_count": 406,
     "metadata": {},
     "output_type": "execute_result"
    }
   ],
   "source": [
    "launchAngle0(fc2_outcome)"
   ]
  },
  {
   "cell_type": "markdown",
   "metadata": {},
   "source": [
    "### Release Possition"
   ]
  },
  {
   "cell_type": "code",
   "execution_count": 80,
   "metadata": {},
   "outputs": [
    {
     "name": "stdout",
     "output_type": "stream",
     "text": [
      "4-Seam Fastball:  54.0094\n",
      "Change Up:  54.0177\n",
      "Slider:  54.229150000000004\n",
      "Sinker:  54.03805\n",
      "Cutter:  54.02\n"
     ]
    }
   ],
   "source": [
    "print(\"4-Seam Fastball: \", ff_outcome[\"release_pos_y\"].median())\n",
    "print(\"Change Up: \",ch_outcome[\"release_pos_y\"].median())\n",
    "print(\"Slider: \",sl_outcome[\"release_pos_y\"].median())\n",
    "print(\"Sinker: \",si_outcome[\"release_pos_y\"].median())\n",
    "print(\"Cutter: \",fc_outcome[\"release_pos_y\"].median())"
   ]
  },
  {
   "cell_type": "code",
   "execution_count": 81,
   "metadata": {},
   "outputs": [
    {
     "name": "stdout",
     "output_type": "stream",
     "text": [
      "4-Seam Fastball:  -1.8591\n",
      "Change Up:  -2.1681\n",
      "Slider:  -2.0059\n",
      "Sinker:  -2.04\n",
      "Cutter:  -2.15\n"
     ]
    }
   ],
   "source": [
    "print(\"4-Seam Fastball: \", ff_outcome[\"release_pos_x\"].median())\n",
    "print(\"Change Up: \",ch_outcome[\"release_pos_x\"].median())\n",
    "print(\"Slider: \",sl_outcome[\"release_pos_x\"].median())\n",
    "print(\"Sinker: \",si_outcome[\"release_pos_x\"].median())\n",
    "print(\"Cutter: \",fc_outcome[\"release_pos_x\"].median())"
   ]
  },
  {
   "cell_type": "code",
   "execution_count": 79,
   "metadata": {},
   "outputs": [
    {
     "name": "stdout",
     "output_type": "stream",
     "text": [
      "4-Seam Fastball:  5.54\n",
      "Change Up:  5.3999\n",
      "Slider:  5.44045\n",
      "Sinker:  5.45945\n",
      "Cutter:  5.44\n"
     ]
    }
   ],
   "source": [
    "print(\"4-Seam Fastball: \", ff_outcome[\"release_pos_z\"].median())\n",
    "print(\"Change Up: \",ch_outcome[\"release_pos_z\"].median())\n",
    "print(\"Slider: \",sl_outcome[\"release_pos_z\"].median())\n",
    "print(\"Sinker: \",si_outcome[\"release_pos_z\"].median())\n",
    "print(\"Cutter: \",fc_outcome[\"release_pos_z\"].median())"
   ]
  },
  {
   "cell_type": "markdown",
   "metadata": {},
   "source": [
    "### AVG Velo (MPH)"
   ]
  },
  {
   "cell_type": "code",
   "execution_count": 77,
   "metadata": {},
   "outputs": [
    {
     "name": "stdout",
     "output_type": "stream",
     "text": [
      "4-Seam Fastball:  93.2\n",
      "Change Up:  84.8\n",
      "Slider:  81.7\n",
      "Sinker:  91.9\n",
      "Cutter:  90.4\n"
     ]
    }
   ],
   "source": [
    "print(\"4-Seam Fastball: \", ff_outcome[\"release_speed\"].median())\n",
    "print(\"Change Up: \",ch_outcome[\"release_speed\"].median())\n",
    "print(\"Slider: \",sl_outcome[\"release_speed\"].median())\n",
    "print(\"Sinker: \",si_outcome[\"release_speed\"].median())\n",
    "print(\"Cutter: \",fc_outcome[\"release_speed\"].median())"
   ]
  },
  {
   "cell_type": "markdown",
   "metadata": {},
   "source": [
    "### AVG Spin Rate (RPM)"
   ]
  },
  {
   "cell_type": "code",
   "execution_count": 76,
   "metadata": {},
   "outputs": [
    {
     "name": "stdout",
     "output_type": "stream",
     "text": [
      "4-Seam Fastball:  2167.0\n",
      "Change Up:  1582.0\n",
      "Slider:  2715.0\n",
      "Sinker:  2008.0\n",
      "Cutter:  2356.0\n"
     ]
    }
   ],
   "source": [
    "print(\"4-Seam Fastball: \", ff_outcome[\"release_spin_rate\"].median())\n",
    "print(\"Change Up: \",ch_outcome[\"release_spin_rate\"].median())\n",
    "print(\"Slider: \",sl_outcome[\"release_spin_rate\"].median())\n",
    "print(\"Sinker: \",si_outcome[\"release_spin_rate\"].median())\n",
    "print(\"Cutter: \",fc_outcome[\"release_spin_rate\"].median())"
   ]
  },
  {
   "cell_type": "code",
   "execution_count": null,
   "metadata": {},
   "outputs": [],
   "source": [
    "AVG. MLB RPM\n",
    "\n",
    "FB 2200\n",
    "SL 2400\n",
    "CH 1800\n",
    "\n",
    "Bauer Units\n",
    "\n",
    "FB 23-25\n",
    "SL 28-30"
   ]
  },
  {
   "cell_type": "code",
   "execution_count": 78,
   "metadata": {},
   "outputs": [
    {
     "name": "stdout",
     "output_type": "stream",
     "text": [
      "4-Seam Fastball:  -0.70935\n",
      "Change Up:  -1.0\n",
      "Slider:  0.9540500000000001\n",
      "Sinker:  -1.4\n",
      "Cutter:  -0.1\n",
      "4-Seam Fastball:  1.1\n",
      "Change Up:  -0.1763\n",
      "Slider:  -0.1\n",
      "Sinker:  0.5\n",
      "Cutter:  0.7\n"
     ]
    }
   ],
   "source": [
    "# Horizontal Movement\n",
    "\n",
    "print(\"4-Seam Fastball: \", ff_outcome[\"pfx_x\"].median())\n",
    "print(\"Change Up: \",ch_outcome[\"pfx_x\"].median())\n",
    "print(\"Slider: \",sl_outcome[\"pfx_x\"].median())\n",
    "print(\"Sinker: \",si_outcome[\"pfx_x\"].median())\n",
    "print(\"Cutter: \",fc_outcome[\"pfx_x\"].median())\n",
    "\n",
    "# Vertical Movement\n",
    "print(\"4-Seam Fastball: \", ff_outcome[\"pfx_z\"].median())\n",
    "print(\"Change Up: \",ch_outcome[\"pfx_z\"].median())\n",
    "print(\"Slider: \",sl_outcome[\"pfx_z\"].median())\n",
    "print(\"Sinker: \",si_outcome[\"pfx_z\"].median())\n",
    "print(\"Cutter: \",fc_outcome[\"pfx_z\"].median())"
   ]
  },
  {
   "cell_type": "code",
   "execution_count": null,
   "metadata": {},
   "outputs": [],
   "source": []
  }
 ],
 "metadata": {
  "kernelspec": {
   "display_name": "Python 3",
   "language": "python",
   "name": "python3"
  },
  "language_info": {
   "codemirror_mode": {
    "name": "ipython",
    "version": 3
   },
   "file_extension": ".py",
   "mimetype": "text/x-python",
   "name": "python",
   "nbconvert_exporter": "python",
   "pygments_lexer": "ipython3",
   "version": "3.8.6"
  }
 },
 "nbformat": 4,
 "nbformat_minor": 4
}
